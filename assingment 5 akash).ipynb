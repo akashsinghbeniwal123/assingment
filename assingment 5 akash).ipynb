{
 "cells": [
  {
   "cell_type": "code",
   "execution_count": 34,
   "id": "6a92c494-bada-4926-b697-f1f3e3b83743",
   "metadata": {},
   "outputs": [
    {
     "ename": "NameError",
     "evalue": "name 'vehicle' is not defined",
     "output_type": "error",
     "traceback": [
      "\u001b[0;31m---------------------------------------------------------------------------\u001b[0m",
      "\u001b[0;31mNameError\u001b[0m                                 Traceback (most recent call last)",
      "Cell \u001b[0;32mIn[34], line 8\u001b[0m\n\u001b[1;32m      5\u001b[0m         max_speed \u001b[38;5;241m=\u001b[39m max_speed\n\u001b[1;32m      6\u001b[0m         average_of_speed \u001b[38;5;241m=\u001b[39m average_of_speed\n\u001b[0;32m----> 8\u001b[0m vehicle_object \u001b[38;5;241m=\u001b[39m \u001b[43mvehicle\u001b[49m (\u001b[38;5;124m'\u001b[39m\u001b[38;5;124mhonda\u001b[39m\u001b[38;5;124m'\u001b[39m , \u001b[38;5;124m'\u001b[39m\u001b[38;5;124m220\u001b[39m\u001b[38;5;124m'\u001b[39m , \u001b[38;5;124m'\u001b[39m\u001b[38;5;124m120\u001b[39m\u001b[38;5;124m'\u001b[39m)\n\u001b[1;32m      9\u001b[0m \u001b[38;5;28mprint\u001b[39m(vehicle_name_of_vehicle)\n\u001b[1;32m     10\u001b[0m \u001b[38;5;28mprint\u001b[39m(vehicle_max_speed)\n",
      "\u001b[0;31mNameError\u001b[0m: name 'vehicle' is not defined"
     ]
    }
   ],
   "source": [
    "class _vehicle:\n",
    "    def __init__ (self ,name_of_vehicle , max_speed , average_of_speed):\n",
    "        \n",
    "        name_of_vehicle =name_of_vehicle\n",
    "        max_speed = max_speed\n",
    "        average_of_speed = average_of_speed\n",
    "        \n",
    "vehicle_object = vehicle ('honda' , '220' , '120')\n",
    "print(vehicle_name_of_vehicle)\n",
    "print(vehicle_max_speed)\n",
    "print(vehicle_average_of_speed)\n",
    "    \n",
    "        \n",
    "        \n",
    "        "
   ]
  },
  {
   "cell_type": "code",
   "execution_count": 19,
   "id": "d47251df-bda8-43f0-8121-13f2805e54fc",
   "metadata": {},
   "outputs": [
    {
     "ename": "NameError",
     "evalue": "name 'class_vehicle' is not defined",
     "output_type": "error",
     "traceback": [
      "\u001b[0;31m---------------------------------------------------------------------------\u001b[0m",
      "\u001b[0;31mNameError\u001b[0m                                 Traceback (most recent call last)",
      "Cell \u001b[0;32mIn[19], line 1\u001b[0m\n\u001b[0;32m----> 1\u001b[0m pw \u001b[38;5;241m=\u001b[39m \u001b[43mclass_vehicle\u001b[49m()\n",
      "\u001b[0;31mNameError\u001b[0m: name 'class_vehicle' is not defined"
     ]
    }
   ],
   "source": [
    "pw = class_vehicle()\n",
    "\n"
   ]
  },
  {
   "cell_type": "markdown",
   "id": "9cdb4246-4e39-4a18-957b-81258cc844c4",
   "metadata": {},
   "source": [
    "pw"
   ]
  },
  {
   "cell_type": "code",
   "execution_count": 70,
   "id": "5968e008-aa5a-4844-b452-5f215c00cff6",
   "metadata": {},
   "outputs": [
    {
     "ename": "AttributeError",
     "evalue": "'pwskills' object has no attribute 'name_of_vehicle'",
     "output_type": "error",
     "traceback": [
      "\u001b[0;31m---------------------------------------------------------------------------\u001b[0m",
      "\u001b[0;31mAttributeError\u001b[0m                            Traceback (most recent call last)",
      "Cell \u001b[0;32mIn[70], line 1\u001b[0m\n\u001b[0;32m----> 1\u001b[0m \u001b[43mpw\u001b[49m\u001b[38;5;241;43m.\u001b[39;49m\u001b[43mname_of_vehicle\u001b[49m\n",
      "\u001b[0;31mAttributeError\u001b[0m: 'pwskills' object has no attribute 'name_of_vehicle'"
     ]
    }
   ],
   "source": [
    "pw.name_of_vehicle"
   ]
  },
  {
   "cell_type": "code",
   "execution_count": 43,
   "id": "3fa0639b-1bd5-4813-bd97-328f958b607c",
   "metadata": {},
   "outputs": [],
   "source": [
    "class pwskills:\n",
    "     def __init__ (self ,name_of_vehicle , max_speed , average_of_speed):\n",
    "            self.__name_of_vehicle = name_of_vehicle\n",
    "            self.__max_speed = max_speed\n",
    "            self.__average_of_speed = average_of_speed\n"
   ]
  },
  {
   "cell_type": "code",
   "execution_count": 36,
   "id": "99b152b9-6f4d-4063-ae70-4673bc8bfb9e",
   "metadata": {},
   "outputs": [],
   "source": [
    "pw = pwskills( 120 , 100 , \"bajaj\")\n"
   ]
  },
  {
   "cell_type": "code",
   "execution_count": 38,
   "id": "0345c6f3-8e61-4a0c-b6e7-80da1d083764",
   "metadata": {},
   "outputs": [
    {
     "data": {
      "text/plain": [
       "<__main__.pwskills at 0x7f37a8e096c0>"
      ]
     },
     "execution_count": 38,
     "metadata": {},
     "output_type": "execute_result"
    }
   ],
   "source": []
  },
  {
   "cell_type": "code",
   "execution_count": null,
   "id": "54fda78f-ef7c-47bd-907a-ec3c9fd1fec4",
   "metadata": {},
   "outputs": [],
   "source": [
    "Multiple inheritance :- when a class is derived from more than one base class."
   ]
  },
  {
   "cell_type": "code",
   "execution_count": 25,
   "id": "a2703c63-c5c9-4c23-9b4c-86dc0f6fff55",
   "metadata": {},
   "outputs": [
    {
     "name": "stdout",
     "output_type": "stream",
     "text": [
      "this is my class1\n",
      "this is my class2\n",
      "this is my class 3 which inherits feature of both classes A and B.\n"
     ]
    }
   ],
   "source": [
    "class A:\n",
    "    def A(self):\n",
    "        print('this is my class1')\n",
    "class B:\n",
    "    def B(self):\n",
    "        print('this is my class2')\n",
    "class C(A,B):\n",
    "    def C(self):\n",
    "        print('this is my class 3 which inherits feature of both classes A and B.')\n",
    "o = C()    \n",
    "o.A()\n",
    "o.B()\n",
    "o.C()\n",
    "\n",
    "    "
   ]
  },
  {
   "cell_type": "code",
   "execution_count": null,
   "id": "4a6e6cc7-16ac-40e4-b334-d2a83ca23cfb",
   "metadata": {},
   "outputs": [],
   "source": [
    "Getter:- it allows you to access an attribute in a given class.\n",
    "Setter:- a method that allows to set or mutate thevalue ofan attribue in class."
   ]
  },
  {
   "cell_type": "code",
   "execution_count": 31,
   "id": "b0f1492d-2342-4691-9a9c-966996c11d35",
   "metadata": {},
   "outputs": [
    {
     "name": "stdout",
     "output_type": "stream",
     "text": [
      "21\n",
      "21\n"
     ]
    }
   ],
   "source": [
    "class greek :\n",
    "    def __init__ (self , age = 0):\n",
    "        self. _age = age\n",
    "        \n",
    "    # getter method\n",
    "    def get_age(self):\n",
    "        return self. _age\n",
    "    \n",
    "    # setter method\n",
    "    def set_age(self , x):\n",
    "        self. _age = x\n",
    "        \n",
    "raj = greek()\n",
    "\n",
    "#setting the age using setter\n",
    "raj.set_age(21)\n",
    "\n",
    "#retrieving age using getter \n",
    "print(raj.get_age())\n",
    "\n",
    "print(raj._age)\n",
    "    \n",
    "    "
   ]
  },
  {
   "cell_type": "code",
   "execution_count": null,
   "id": "2f4749e2-0b35-42a9-a287-7fec67fcc524",
   "metadata": {},
   "outputs": [],
   "source": [
    "Method overriding:- the process of redifining a parent class method in a subclass."
   ]
  },
  {
   "cell_type": "code",
   "execution_count": 32,
   "id": "fc2aaf97-b6c4-4297-883a-15ceebca044f",
   "metadata": {},
   "outputs": [
    {
     "name": "stdout",
     "output_type": "stream",
     "text": [
      "inside parent\n",
      "insidechild\n"
     ]
    }
   ],
   "source": [
    "class parent():\n",
    "    \n",
    "    def show (self):\n",
    "              print(\"inside parent\")\n",
    "            \n",
    "class child(parent):\n",
    "    \n",
    "    def show(self):\n",
    "        \n",
    "        #calling the parent class\n",
    "        #method\n",
    "        parent . show(self)\n",
    "        print(\"insidechild\")\n",
    "        \n",
    "#driver code\n",
    "obj = child()\n",
    "obj.show()"
   ]
  },
  {
   "cell_type": "code",
   "execution_count": null,
   "id": "fb4d0bcb-fc81-494e-aa85-7a58c7df78bf",
   "metadata": {},
   "outputs": [],
   "source": []
  }
 ],
 "metadata": {
  "kernelspec": {
   "display_name": "Python 3 (ipykernel)",
   "language": "python",
   "name": "python3"
  },
  "language_info": {
   "codemirror_mode": {
    "name": "ipython",
    "version": 3
   },
   "file_extension": ".py",
   "mimetype": "text/x-python",
   "name": "python",
   "nbconvert_exporter": "python",
   "pygments_lexer": "ipython3",
   "version": "3.10.8"
  }
 },
 "nbformat": 4,
 "nbformat_minor": 5
}
