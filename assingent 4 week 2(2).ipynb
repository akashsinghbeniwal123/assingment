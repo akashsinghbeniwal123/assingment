{
 "cells": [
  {
   "cell_type": "code",
   "execution_count": 5,
   "id": "637089ea-117e-4656-a0a8-75e8ebe58622",
   "metadata": {},
   "outputs": [
    {
     "name": "stdout",
     "output_type": "stream",
     "text": [
      "original list of tuples\n",
      "[('sachin_tendulkar', 34357), ('ricky_pointing', 27483), ('jack_kallis', 25534), ('virat_kohli', 24936)]\n",
      "\n",
      "shorting the list of tuples:\n",
      "[('virat_kohli', 24936), ('jack_kallis', 25534), ('ricky_pointing', 27483), ('sachin_tendulkar', 34357)]\n"
     ]
    }
   ],
   "source": [
    "vip_name = [('sachin_tendulkar',34357),('ricky_pointing',27483) ,('jack_kallis',25534),('virat_kohli',24936)]\n",
    "print(\"original list of tuples\")\n",
    "print(vip_name)\n",
    "vip_name.sort(key = lambda x:x[1])\n",
    "print(\"\\nshorting the list of tuples:\")\n",
    "print(vip_name)"
   ]
  },
  {
   "cell_type": "code",
   "execution_count": 10,
   "id": "05838daa-abe5-4dc8-902d-87c456eefa95",
   "metadata": {},
   "outputs": [],
   "source": [
    "l = [1,2,3,4,5,6,7,8,9,10]"
   ]
  },
  {
   "cell_type": "code",
   "execution_count": 11,
   "id": "1c4bd8d5-5bd5-4440-b727-24c30c2a3d14",
   "metadata": {},
   "outputs": [
    {
     "data": {
      "text/plain": [
       "[1, 2, 3, 4, 5, 6, 7, 8, 9, 10]"
      ]
     },
     "execution_count": 11,
     "metadata": {},
     "output_type": "execute_result"
    }
   ],
   "source": [
    "l"
   ]
  },
  {
   "cell_type": "code",
   "execution_count": 38,
   "id": "9f8a96e7-682e-4665-a4a8-16af86485a77",
   "metadata": {},
   "outputs": [
    {
     "name": "stdout",
     "output_type": "stream",
     "text": [
      "list of numbers:\n",
      "[1, 2, 3, 4, 5, 6, 7, 8, 9, 10]\n",
      "/nsquare of every number of the provided list:\n",
      "[1, 4, 9, 16, 25, 36, 49, 64, 81, 100]\n"
     ]
    }
   ],
   "source": [
    "numbers = [1,2,3,4,5,6,7,8,9,10]\n",
    "print(\"list of numbers:\")\n",
    "print(numbers)\n",
    "print(\"/nsquare of every number of the provided list:\")\n",
    "square_number = list(map(lambda x:x**2,numbers))\n",
    "print(square_number)\n"
   ]
  },
  {
   "cell_type": "code",
   "execution_count": 40,
   "id": "fbcb82c2-f963-4212-a354-7b98ce0a334e",
   "metadata": {},
   "outputs": [
    {
     "name": "stdout",
     "output_type": "stream",
     "text": [
      "Original list and tuple:\n",
      "[1, 2, 3, 4, 5, 6, 7, 8, 9, 10]\n",
      "(0, 1, 2, 3, 4, 5, 6, 7.8, 9, 10)\n",
      "\n",
      "List of strings:\n",
      "['1', '2', '3', '4', '5', '6', '7', '8', '9', '10']\n"
     ]
    }
   ],
   "source": [
    "nums_list = [1,2,3,4,5,6,7,8,9,10]\n",
    "nums_tuple = (0, 1, 2, 3,4,5,6,7.8,9,10)\n",
    "print(\"Original list and tuple:\")\n",
    "print(nums_list)\n",
    "print(nums_tuple)\n",
    "result_list = list(map(str,nums_list))\n",
    "result_tuple = tuple(map(str,nums_tuple))\n",
    "print(\"\\nList of strings:\")\n",
    "print(result_list)\n",
    "\n",
    "\n",
    "\n",
    "\n"
   ]
  },
  {
   "cell_type": "code",
   "execution_count": 41,
   "id": "03eda82e-9860-4924-9b08-9604fba27fd6",
   "metadata": {},
   "outputs": [],
   "source": [
    "l = [2,3,6,9,27,60,90,120,55,46]"
   ]
  },
  {
   "cell_type": "code",
   "execution_count": 42,
   "id": "c6d53267-0ae3-4de6-a596-7c73cb9caa05",
   "metadata": {},
   "outputs": [
    {
     "data": {
      "text/plain": [
       "[2, 3, 6, 9, 27, 60, 90, 120, 55, 46]"
      ]
     },
     "execution_count": 42,
     "metadata": {},
     "output_type": "execute_result"
    }
   ],
   "source": [
    "l"
   ]
  },
  {
   "cell_type": "code",
   "execution_count": 51,
   "id": "976641b6-1e9b-40d3-8046-33175cf9e50c",
   "metadata": {},
   "outputs": [
    {
     "data": {
      "text/plain": [
       "[6]"
      ]
     },
     "execution_count": 51,
     "metadata": {},
     "output_type": "execute_result"
    }
   ],
   "source": [
    "list(filter(lambda x:x/2==3,l))"
   ]
  },
  {
   "cell_type": "code",
   "execution_count": 53,
   "id": "c944a649-b0f9-4c8e-8fbf-45de68602126",
   "metadata": {},
   "outputs": [
    {
     "name": "stdout",
     "output_type": "stream",
     "text": [
      "Orginal list of strings:\n",
      "['python', 'php', 'aba', 'radar', 'level']\n",
      "\n",
      "List of palindromes:\n",
      "['php', 'aba', 'radar', 'level']\n"
     ]
    }
   ],
   "source": [
    "texts = ['python' , 'php', 'aba', 'radar', 'level']\n",
    "print(\"Orginal list of strings:\")\n",
    "print(texts) \n",
    "result = list(filter(lambda x: (x == \"\".join(reversed(x))), texts)) \n",
    "print(\"\\nList of palindromes:\")\n",
    "print(result) \n"
   ]
  },
  {
   "cell_type": "code",
   "execution_count": null,
   "id": "f9acec91-7ef1-4115-b4c3-09f650e87373",
   "metadata": {},
   "outputs": [],
   "source": []
  }
 ],
 "metadata": {
  "kernelspec": {
   "display_name": "Python 3 (ipykernel)",
   "language": "python",
   "name": "python3"
  },
  "language_info": {
   "codemirror_mode": {
    "name": "ipython",
    "version": 3
   },
   "file_extension": ".py",
   "mimetype": "text/x-python",
   "name": "python",
   "nbconvert_exporter": "python",
   "pygments_lexer": "ipython3",
   "version": "3.10.8"
  }
 },
 "nbformat": 4,
 "nbformat_minor": 5
}
