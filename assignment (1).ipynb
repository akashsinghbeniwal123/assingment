{
 "cells": [
  {
   "cell_type": "code",
   "execution_count": 1,
   "id": "2df9959d-5c1d-41f3-ab64-dd2e39b65562",
   "metadata": {},
   "outputs": [],
   "source": [
    "b = 'akash'"
   ]
  },
  {
   "cell_type": "code",
   "execution_count": 2,
   "id": "e876684f-aacb-4aff-a7d3-f1b68ef73c57",
   "metadata": {},
   "outputs": [
    {
     "data": {
      "text/plain": [
       "str"
      ]
     },
     "execution_count": 2,
     "metadata": {},
     "output_type": "execute_result"
    }
   ],
   "source": [
    "type(b)"
   ]
  },
  {
   "cell_type": "code",
   "execution_count": 3,
   "id": "723ffe2e-e6a8-4d77-a022-64e5cb14c1bf",
   "metadata": {},
   "outputs": [],
   "source": [
    "l = [2,3,4,5,\"akash\" , \"kumar\" , 34.456]"
   ]
  },
  {
   "cell_type": "code",
   "execution_count": 4,
   "id": "f79ecf3f-25a5-4ca0-be36-73b1a14f057a",
   "metadata": {},
   "outputs": [
    {
     "data": {
      "text/plain": [
       "[2, 3, 4, 5, 'akash', 'kumar', 34.456]"
      ]
     },
     "execution_count": 4,
     "metadata": {},
     "output_type": "execute_result"
    }
   ],
   "source": [
    "l"
   ]
  },
  {
   "cell_type": "code",
   "execution_count": 5,
   "id": "b6c448b9-fb73-4106-ab65-e001395bd68a",
   "metadata": {},
   "outputs": [
    {
     "data": {
      "text/plain": [
       "int"
      ]
     },
     "execution_count": 5,
     "metadata": {},
     "output_type": "execute_result"
    }
   ],
   "source": [
    "type(1)"
   ]
  },
  {
   "cell_type": "code",
   "execution_count": 6,
   "id": "e7c665ec-6cb7-4b43-96ab-cdeaa5f155b8",
   "metadata": {},
   "outputs": [
    {
     "data": {
      "text/plain": [
       "list"
      ]
     },
     "execution_count": 6,
     "metadata": {},
     "output_type": "execute_result"
    }
   ],
   "source": [
    "type(l)"
   ]
  },
  {
   "cell_type": "code",
   "execution_count": 7,
   "id": "b52f74e8-7c8c-45ec-93f6-81fca52b65cf",
   "metadata": {},
   "outputs": [
    {
     "data": {
      "text/plain": [
       "4"
      ]
     },
     "execution_count": 7,
     "metadata": {},
     "output_type": "execute_result"
    }
   ],
   "source": [
    "l[2]"
   ]
  },
  {
   "cell_type": "code",
   "execution_count": 8,
   "id": "8a3551a1-96ca-4dd7-a75b-06dd079d9d6b",
   "metadata": {},
   "outputs": [],
   "source": [
    "c = 34.567"
   ]
  },
  {
   "cell_type": "code",
   "execution_count": 9,
   "id": "9e1066a3-f294-4a4d-af71-2af313c5a8f5",
   "metadata": {},
   "outputs": [
    {
     "data": {
      "text/plain": [
       "float"
      ]
     },
     "execution_count": 9,
     "metadata": {},
     "output_type": "execute_result"
    }
   ],
   "source": [
    "type(c)"
   ]
  },
  {
   "cell_type": "code",
   "execution_count": 11,
   "id": "f29f5fb7-d306-4661-a044-b319e3c38a9e",
   "metadata": {},
   "outputs": [],
   "source": [
    "t = [1,2,3,4, \"ram\" , \"kumar\" , 45.45 , False ,True]"
   ]
  },
  {
   "cell_type": "code",
   "execution_count": 12,
   "id": "65010afd-a56a-47c9-b1ac-3d9e75113085",
   "metadata": {},
   "outputs": [
    {
     "data": {
      "text/plain": [
       "list"
      ]
     },
     "execution_count": 12,
     "metadata": {},
     "output_type": "execute_result"
    }
   ],
   "source": [
    "type(t)"
   ]
  },
  {
   "cell_type": "code",
   "execution_count": 13,
   "id": "2d03fd3c-5ae5-4eff-a294-ba56fd427a10",
   "metadata": {},
   "outputs": [
    {
     "data": {
      "text/plain": [
       "[1, 2, 3, 4, 'ram', 'kumar', 45.45, False, True]"
      ]
     },
     "execution_count": 13,
     "metadata": {},
     "output_type": "execute_result"
    }
   ],
   "source": [
    "t"
   ]
  },
  {
   "cell_type": "code",
   "execution_count": 14,
   "id": "c25fb8db-bd01-41f8-b67a-b3adab9d4f12",
   "metadata": {},
   "outputs": [
    {
     "data": {
      "text/plain": [
       "[1, 2, 3, 4, 'ram', 'kumar', 45.45, False, True]"
      ]
     },
     "execution_count": 14,
     "metadata": {},
     "output_type": "execute_result"
    }
   ],
   "source": [
    "t[::1]"
   ]
  },
  {
   "cell_type": "code",
   "execution_count": 16,
   "id": "d2fd6698-6e21-4c1a-953a-256142a198d3",
   "metadata": {},
   "outputs": [
    {
     "data": {
      "text/plain": [
       "[1, 3, 'ram', 45.45, True]"
      ]
     },
     "execution_count": 16,
     "metadata": {},
     "output_type": "execute_result"
    }
   ],
   "source": [
    "t[::2]"
   ]
  },
  {
   "cell_type": "code",
   "execution_count": 17,
   "id": "f1a17403-d1be-4185-881a-f83a72c53c6f",
   "metadata": {},
   "outputs": [],
   "source": [
    "var = 'ram'"
   ]
  },
  {
   "cell_type": "code",
   "execution_count": 18,
   "id": "d2958d9b-7f4f-4cc8-8d03-f0f4d5c64432",
   "metadata": {},
   "outputs": [
    {
     "data": {
      "text/plain": [
       "str"
      ]
     },
     "execution_count": 18,
     "metadata": {},
     "output_type": "execute_result"
    }
   ],
   "source": [
    "type(var)"
   ]
  },
  {
   "cell_type": "code",
   "execution_count": 22,
   "id": "7f499a34-9666-4455-947e-0f6bc06b56d3",
   "metadata": {},
   "outputs": [
    {
     "data": {
      "text/plain": [
       "1.25"
      ]
     },
     "execution_count": 22,
     "metadata": {},
     "output_type": "execute_result"
    }
   ],
   "source": [
    "5/4"
   ]
  },
  {
   "cell_type": "code",
   "execution_count": 23,
   "id": "51b408f1-8735-4d27-8102-36b3ea23e695",
   "metadata": {},
   "outputs": [
    {
     "data": {
      "text/plain": [
       "3"
      ]
     },
     "execution_count": 23,
     "metadata": {},
     "output_type": "execute_result"
    }
   ],
   "source": [
    "3%4"
   ]
  },
  {
   "cell_type": "code",
   "execution_count": 24,
   "id": "e6e152a1-9cb5-4355-9394-b5d6fea3b188",
   "metadata": {},
   "outputs": [
    {
     "data": {
      "text/plain": [
       "0"
      ]
     },
     "execution_count": 24,
     "metadata": {},
     "output_type": "execute_result"
    }
   ],
   "source": [
    "7//9"
   ]
  },
  {
   "cell_type": "code",
   "execution_count": 25,
   "id": "4f23002d-add2-4ab3-9876-7594defa248a",
   "metadata": {},
   "outputs": [
    {
     "data": {
      "text/plain": [
       "16"
      ]
     },
     "execution_count": 25,
     "metadata": {},
     "output_type": "execute_result"
    }
   ],
   "source": [
    "2**4"
   ]
  },
  {
   "cell_type": "code",
   "execution_count": 26,
   "id": "0f49992d-06ea-4805-a4ae-e45d95c864de",
   "metadata": {},
   "outputs": [],
   "source": [
    "l = [5,6,78,\"mahaveer\" , \"beniwal\" , True , False ,56.768]"
   ]
  },
  {
   "cell_type": "code",
   "execution_count": 27,
   "id": "2da7c86f-54b5-4c22-81a4-2694a1ff6948",
   "metadata": {},
   "outputs": [
    {
     "data": {
      "text/plain": [
       "[5, 6, 78, 'mahaveer', 'beniwal', True, False, 56.768]"
      ]
     },
     "execution_count": 27,
     "metadata": {},
     "output_type": "execute_result"
    }
   ],
   "source": [
    "l"
   ]
  },
  {
   "cell_type": "code",
   "execution_count": 31,
   "id": "1dd56450-ff86-4042-a8f0-67050a9cc9a1",
   "metadata": {},
   "outputs": [
    {
     "data": {
      "text/plain": [
       "6"
      ]
     },
     "execution_count": 31,
     "metadata": {},
     "output_type": "execute_result"
    }
   ],
   "source": [
    "l[1]"
   ]
  },
  {
   "cell_type": "code",
   "execution_count": 32,
   "id": "3d3276a8-d055-4f82-b0e1-58242668a138",
   "metadata": {},
   "outputs": [
    {
     "data": {
      "text/plain": [
       "'beniwal'"
      ]
     },
     "execution_count": 32,
     "metadata": {},
     "output_type": "execute_result"
    }
   ],
   "source": [
    "l[4]"
   ]
  },
  {
   "cell_type": "code",
   "execution_count": 33,
   "id": "ecf4bec9-47b8-4057-9cf8-9d6be4a19443",
   "metadata": {},
   "outputs": [
    {
     "data": {
      "text/plain": [
       "[5, 78, 'beniwal', False]"
      ]
     },
     "execution_count": 33,
     "metadata": {},
     "output_type": "execute_result"
    }
   ],
   "source": [
    "l[::2]"
   ]
  },
  {
   "cell_type": "code",
   "execution_count": 35,
   "id": "063253fd-5687-4109-ba1b-2cf7d0d3c7bf",
   "metadata": {},
   "outputs": [
    {
     "data": {
      "text/plain": [
       "79"
      ]
     },
     "execution_count": 35,
     "metadata": {},
     "output_type": "execute_result"
    }
   ],
   "source": [
    "l[2]+1"
   ]
  },
  {
   "cell_type": "code",
   "execution_count": 46,
   "id": "2722dfb0-d566-4c48-9499-6bba26b11775",
   "metadata": {},
   "outputs": [],
   "source": [
    "l.append(\"mahaveer\")"
   ]
  },
  {
   "cell_type": "code",
   "execution_count": 47,
   "id": "ab42ead6-d6fe-4919-9229-e73cef315c2d",
   "metadata": {},
   "outputs": [
    {
     "data": {
      "text/plain": [
       "[5, 6, 78, 'mahaveer', 'beniwal', True, False, 56.768, 'mahaveer']"
      ]
     },
     "execution_count": 47,
     "metadata": {},
     "output_type": "execute_result"
    }
   ],
   "source": [
    "l"
   ]
  },
  {
   "cell_type": "code",
   "execution_count": null,
   "id": "778d5386-02e8-4f10-8de9-1106afe6f537",
   "metadata": {},
   "outputs": [],
   "source": [
    "a = 4\n",
    "b = 6\n",
    "while a<b:\n",
    "    print(i)\n",
    "    i =i+1"
   ]
  },
  {
   "cell_type": "code",
   "execution_count": 2,
   "id": "69d73b60-6d07-400a-9cec-ff1f61c375a0",
   "metadata": {},
   "outputs": [],
   "source": [
    "l = [1,2,4,5,\"rahul\" , \"chaudhary\" , True , False , 5j+7 , 456.67]"
   ]
  },
  {
   "cell_type": "code",
   "execution_count": 3,
   "id": "946eb4f6-559e-4a06-9e5f-738d97d69e60",
   "metadata": {},
   "outputs": [
    {
     "data": {
      "text/plain": [
       "[1, 2, 4, 5, 'rahul', 'chaudhary', True, False, (7+5j), 456.67]"
      ]
     },
     "execution_count": 3,
     "metadata": {},
     "output_type": "execute_result"
    }
   ],
   "source": [
    "l"
   ]
  },
  {
   "cell_type": "code",
   "execution_count": 4,
   "id": "a07d68c6-5c28-4493-a4dd-9526795c4555",
   "metadata": {},
   "outputs": [
    {
     "data": {
      "text/plain": [
       "2"
      ]
     },
     "execution_count": 4,
     "metadata": {},
     "output_type": "execute_result"
    }
   ],
   "source": [
    "l[1]"
   ]
  },
  {
   "cell_type": "code",
   "execution_count": 5,
   "id": "435ba2ab-626b-4924-bfca-002771270f52",
   "metadata": {},
   "outputs": [
    {
     "data": {
      "text/plain": [
       "5"
      ]
     },
     "execution_count": 5,
     "metadata": {},
     "output_type": "execute_result"
    }
   ],
   "source": [
    "l[3]"
   ]
  },
  {
   "cell_type": "code",
   "execution_count": 6,
   "id": "bb72ca67-afbf-454c-b898-c30ec7fa4c21",
   "metadata": {},
   "outputs": [
    {
     "data": {
      "text/plain": [
       "False"
      ]
     },
     "execution_count": 6,
     "metadata": {},
     "output_type": "execute_result"
    }
   ],
   "source": [
    "l[7]"
   ]
  },
  {
   "cell_type": "code",
   "execution_count": 11,
   "id": "16453bc9-e735-4067-b954-9812d8450c30",
   "metadata": {},
   "outputs": [
    {
     "data": {
      "text/plain": [
       "int"
      ]
     },
     "execution_count": 11,
     "metadata": {},
     "output_type": "execute_result"
    }
   ],
   "source": [
    "type(2)"
   ]
  },
  {
   "cell_type": "code",
   "execution_count": 12,
   "id": "480d6576-c94d-4739-be09-1dc645b2a79d",
   "metadata": {},
   "outputs": [
    {
     "data": {
      "text/plain": [
       "int"
      ]
     },
     "execution_count": 12,
     "metadata": {},
     "output_type": "execute_result"
    }
   ],
   "source": [
    "type(3)"
   ]
  },
  {
   "cell_type": "code",
   "execution_count": 13,
   "id": "da1363eb-041f-476d-816e-3623f315a85d",
   "metadata": {},
   "outputs": [
    {
     "data": {
      "text/plain": [
       "list"
      ]
     },
     "execution_count": 13,
     "metadata": {},
     "output_type": "execute_result"
    }
   ],
   "source": [
    "type(l)"
   ]
  },
  {
   "cell_type": "code",
   "execution_count": 15,
   "id": "ef06cd8f-4ac8-4fc9-a34d-d7626186754b",
   "metadata": {},
   "outputs": [
    {
     "data": {
      "text/plain": [
       "[1, 4, 'rahul', True, (7+5j)]"
      ]
     },
     "execution_count": 15,
     "metadata": {},
     "output_type": "execute_result"
    }
   ],
   "source": [
    "l[::2]"
   ]
  },
  {
   "cell_type": "code",
   "execution_count": 18,
   "id": "31090d4e-78d1-405d-871c-477fee300969",
   "metadata": {},
   "outputs": [
    {
     "data": {
      "text/plain": [
       "[1]"
      ]
     },
     "execution_count": 18,
     "metadata": {},
     "output_type": "execute_result"
    }
   ],
   "source": [
    "l[:1]"
   ]
  },
  {
   "cell_type": "code",
   "execution_count": 19,
   "id": "57abc688-435d-4ccf-9f1a-28560a47bba2",
   "metadata": {},
   "outputs": [
    {
     "name": "stdout",
     "output_type": "stream",
     "text": [
      "yes b is smaller than 30\n"
     ]
    }
   ],
   "source": [
    "if b<30:\n",
    "    print(\"yes b is smaller than 30\")\n",
    "elif b>45:\n",
    "    print(\"yes b is greater than 45\")\n",
    "else :\n",
    "    print(\"this is my default\")\n",
    "    \n",
    "    \n",
    "    \n"
   ]
  },
  {
   "cell_type": "code",
   "execution_count": null,
   "id": "fc6c019a-401c-4671-99ed-943ad9193c47",
   "metadata": {},
   "outputs": [],
   "source": [
    "immtuble:this types of data type like int , float , bool , tuple and string.\n",
    "eg:-tuple1 = (1,3,4)\n",
    "tuple[0] = 4\n",
    "print(tuple1)\n",
    "\n",
    "\n",
    "Mutable:-this type of data dict , ans set.\n",
    "eg:-my"
   ]
  }
 ],
 "metadata": {
  "kernelspec": {
   "display_name": "Python 3 (ipykernel)",
   "language": "python",
   "name": "python3"
  },
  "language_info": {
   "codemirror_mode": {
    "name": "ipython",
    "version": 3
   },
   "file_extension": ".py",
   "mimetype": "text/x-python",
   "name": "python",
   "nbconvert_exporter": "python",
   "pygments_lexer": "ipython3",
   "version": "3.10.8"
  }
 },
 "nbformat": 4,
 "nbformat_minor": 5
}
