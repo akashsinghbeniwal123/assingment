{
 "cells": [
  {
   "cell_type": "code",
   "execution_count": null,
   "id": "1541629f-ee6d-4ad8-b8db-cb1bd13ea6b5",
   "metadata": {},
   "outputs": [],
   "source": [
    "Classes are user-defined data types that act as the blueprint for individual objects, attributes and methods. Objects are instances of a class created with specifically defined data. Objects can correspond to real-world objects or an abstract entity.\n"
   ]
  },
  {
   "cell_type": "code",
   "execution_count": 2,
   "id": "13a1090f-740c-4ba0-b275-f45eaec31f4d",
   "metadata": {},
   "outputs": [],
   "source": [
    "class pwskills:\n",
    "    \n",
    "    def welcome_msg(self):\n",
    "        print(\"welcome to pwskills\")"
   ]
  },
  {
   "cell_type": "code",
   "execution_count": 4,
   "id": "9e394d14-fb98-49ca-bd57-a378700fdd19",
   "metadata": {},
   "outputs": [],
   "source": [
    "rohan=pwskills()"
   ]
  },
  {
   "cell_type": "code",
   "execution_count": 5,
   "id": "fecef470-7b60-4175-a734-f87bb4649292",
   "metadata": {},
   "outputs": [
    {
     "name": "stdout",
     "output_type": "stream",
     "text": [
      "<class '__main__.pwskills'>\n"
     ]
    }
   ],
   "source": [
    "print(type(rohan))"
   ]
  },
  {
   "cell_type": "code",
   "execution_count": 6,
   "id": "321a0a7c-a58c-481e-b8e9-d8abd336e01d",
   "metadata": {},
   "outputs": [
    {
     "name": "stdout",
     "output_type": "stream",
     "text": [
      "welcome to pwskills\n"
     ]
    }
   ],
   "source": [
    "rohan.welcome_msg()\n"
   ]
  },
  {
   "cell_type": "code",
   "execution_count": null,
   "id": "0fcd59d5-02cb-48a2-9385-ffcfd3c998da",
   "metadata": {},
   "outputs": [],
   "source": [
    "The Four Pillars of Object Oriented Programming.\n",
    "Abstraction\n",
    "Encapsulation\n",
    "Inheritance\n",
    "Polymorphism\n"
   ]
  },
  {
   "cell_type": "code",
   "execution_count": null,
   "id": "752ba9d4-ee26-491a-8630-a56ae91d8567",
   "metadata": {},
   "outputs": [],
   "source": [
    "The __init__ method lets the class initialize the object's attributes and serves no other purpose. It is only used within classes."
   ]
  },
  {
   "cell_type": "code",
   "execution_count": 15,
   "id": "ba1b04f5-7acf-49a9-b902-746d34bfd260",
   "metadata": {},
   "outputs": [],
   "source": [
    "class Dog:                \n",
    " \n",
    " def __init__(self, dogBreed=\"German Shepherd\",dogEyeColor=\"Brown\"): \n",
    "  \n",
    "    self.breed = dogBreed   \n",
    "    self.eyeColor = dogEyeColor"
   ]
  },
  {
   "cell_type": "code",
   "execution_count": 16,
   "id": "709c7737-ddbd-4810-90b9-68b99bc15b05",
   "metadata": {},
   "outputs": [],
   "source": [
    "tomita = Dog()"
   ]
  },
  {
   "cell_type": "code",
   "execution_count": 17,
   "id": "37ce31e5-41f6-4e4b-aef5-bbcad4ab9d19",
   "metadata": {},
   "outputs": [
    {
     "name": "stdout",
     "output_type": "stream",
     "text": [
      "This dog is a German Shepherd and its eyes are Brown\n"
     ]
    }
   ],
   "source": [
    "print(\"This dog is a\",tomita.breed,\"and its eyes are\",tomita.eyeColor)"
   ]
  },
  {
   "cell_type": "code",
   "execution_count": null,
   "id": "893c81a9-5a26-494e-9f9e-0eb3ea70aa91",
   "metadata": {},
   "outputs": [],
   "source": [
    "SELF:-self represents the instance of the class. By using the “self” we can access the attributes and methods of the class in python. It binds the attributes with the given arguments. The reason you need to use self. is because Python does not use the @ syntax to refer to instance attributes.s\n"
   ]
  },
  {
   "cell_type": "code",
   "execution_count": 29,
   "id": "38cff9ac-2f71-4eb9-b672-5ba306af4b62",
   "metadata": {},
   "outputs": [],
   "source": [
    "class test:\n",
    "    \n",
    "    def test_meth(self):\n",
    "        return \"this is my first class\""
   ]
  },
  {
   "cell_type": "code",
   "execution_count": 30,
   "id": "c253f3a7-2f91-4a1c-8c76-e81242507991",
   "metadata": {},
   "outputs": [],
   "source": [
    "class child_test(test):\n",
    "    pass"
   ]
  },
  {
   "cell_type": "code",
   "execution_count": 31,
   "id": "10892728-4947-4ae4-8c30-0cd36a1f9228",
   "metadata": {},
   "outputs": [],
   "source": [
    "child_test_obj = child_test()"
   ]
  },
  {
   "cell_type": "code",
   "execution_count": 32,
   "id": "08366e14-9a48-43c1-b36b-528456ee0ad1",
   "metadata": {},
   "outputs": [
    {
     "data": {
      "text/plain": [
       "'this is my first class'"
      ]
     },
     "execution_count": 32,
     "metadata": {},
     "output_type": "execute_result"
    }
   ],
   "source": [
    "child_test_obj.test_meth()"
   ]
  },
  {
   "cell_type": "code",
   "execution_count": 51,
   "id": "a3b55cee-6f2c-4939-ac15-d9a850edc18d",
   "metadata": {},
   "outputs": [],
   "source": [
    "class _class1 :\n",
    "    \n",
    "    def test_class1(self):\n",
    "        return\"this is my class 1\""
   ]
  },
  {
   "cell_type": "code",
   "execution_count": 52,
   "id": "c31a7240-4625-4668-a447-b4b97b2996ef",
   "metadata": {},
   "outputs": [],
   "source": [
    "class _class2 :\n",
    "    \n",
    "    def test_class1(self):\n",
    "        return\"this is my class 2\""
   ]
  },
  {
   "cell_type": "code",
   "execution_count": 53,
   "id": "acb6083b-6b1c-4863-b9d2-3a550429db0e",
   "metadata": {},
   "outputs": [],
   "source": [
    "obj_class3 = class3()"
   ]
  },
  {
   "cell_type": "code",
   "execution_count": 54,
   "id": "1ef0462d-cb4e-468b-a281-8ca8a4033c93",
   "metadata": {},
   "outputs": [],
   "source": [
    "obj_class3.test_class3()"
   ]
  },
  {
   "cell_type": "code",
   "execution_count": 58,
   "id": "feff3071-9beb-4e35-8a88-3802dcb73ef7",
   "metadata": {},
   "outputs": [],
   "source": [
    "obj_class3.test_class3()"
   ]
  },
  {
   "cell_type": "code",
   "execution_count": null,
   "id": "cd0bd42f-3c21-44ce-a274-9d6d33554477",
   "metadata": {},
   "outputs": [],
   "source": []
  }
 ],
 "metadata": {
  "kernelspec": {
   "display_name": "Python 3 (ipykernel)",
   "language": "python",
   "name": "python3"
  },
  "language_info": {
   "codemirror_mode": {
    "name": "ipython",
    "version": 3
   },
   "file_extension": ".py",
   "mimetype": "text/x-python",
   "name": "python",
   "nbconvert_exporter": "python",
   "pygments_lexer": "ipython3",
   "version": "3.10.8"
  }
 },
 "nbformat": 4,
 "nbformat_minor": 5
}
